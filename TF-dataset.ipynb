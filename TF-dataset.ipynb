{
 "cells": [
  {
   "cell_type": "code",
   "execution_count": 1,
   "id": "04295c4f",
   "metadata": {},
   "outputs": [],
   "source": [
    "import os\n",
    "os.environ['TF_CPP_MIN_LOG_LEVEL'] = '3'"
   ]
  },
  {
   "cell_type": "code",
   "execution_count": 2,
   "id": "d7d4b2b2",
   "metadata": {
    "scrolled": true
   },
   "outputs": [],
   "source": [
    "import tensorflow as tf"
   ]
  },
  {
   "cell_type": "code",
   "execution_count": 3,
   "id": "5ea545ea",
   "metadata": {},
   "outputs": [],
   "source": [
    "arr = [32,45,12,34,78,65,76,-23,-108,-8,89,10]\n",
    "tf_dataset = tf.data.Dataset.from_tensor_slices(arr)"
   ]
  },
  {
   "cell_type": "code",
   "execution_count": 4,
   "id": "1a7f7b37",
   "metadata": {},
   "outputs": [
    {
     "name": "stdout",
     "output_type": "stream",
     "text": [
      "32\n",
      "45\n",
      "12\n",
      "34\n",
      "78\n",
      "65\n",
      "76\n",
      "-23\n",
      "-108\n",
      "-8\n",
      "89\n",
      "10\n"
     ]
    }
   ],
   "source": [
    "for i in tf_dataset:\n",
    "    print(i.numpy())"
   ]
  },
  {
   "cell_type": "code",
   "execution_count": 5,
   "id": "8f5ac9b6",
   "metadata": {},
   "outputs": [
    {
     "name": "stdout",
     "output_type": "stream",
     "text": [
      "32\n",
      "45\n",
      "12\n",
      "34\n",
      "78\n",
      "65\n",
      "76\n",
      "-23\n",
      "-108\n",
      "-8\n",
      "89\n",
      "10\n"
     ]
    }
   ],
   "source": [
    "for i in tf_dataset.as_numpy_iterator():\n",
    "    print(i)"
   ]
  },
  {
   "cell_type": "code",
   "execution_count": 6,
   "id": "50ea23cf",
   "metadata": {},
   "outputs": [
    {
     "data": {
      "text/plain": [
       "12"
      ]
     },
     "execution_count": 6,
     "metadata": {},
     "output_type": "execute_result"
    }
   ],
   "source": [
    "len(tf_dataset)"
   ]
  },
  {
   "cell_type": "raw",
   "id": "a6f0aa92",
   "metadata": {},
   "source": [
    "tf_dataset[0]\n",
    "# this will throw error\n",
    "# each element in tf.data.Dataset container will be a Tensor and we can get get the value of the Tensor using .numpy()"
   ]
  },
  {
   "cell_type": "code",
   "execution_count": 7,
   "id": "4ec01ba6",
   "metadata": {},
   "outputs": [],
   "source": [
    "def dollar_into_rupee(x):\n",
    "    return x*83"
   ]
  },
  {
   "cell_type": "code",
   "execution_count": 8,
   "id": "a2667530",
   "metadata": {},
   "outputs": [],
   "source": [
    "#filter function\n",
    "tf_dataset = tf_dataset.filter(lambda x:x>0)"
   ]
  },
  {
   "cell_type": "code",
   "execution_count": 9,
   "id": "5a7534a4",
   "metadata": {},
   "outputs": [
    {
     "name": "stdout",
     "output_type": "stream",
     "text": [
      "32\n",
      "45\n",
      "12\n",
      "34\n",
      "78\n",
      "65\n",
      "76\n",
      "89\n",
      "10\n"
     ]
    }
   ],
   "source": [
    "for i in tf_dataset.as_numpy_iterator():\n",
    "    print(i)"
   ]
  },
  {
   "cell_type": "code",
   "execution_count": 10,
   "id": "8d2ea01f",
   "metadata": {},
   "outputs": [],
   "source": [
    "tf_dataset = tf_dataset.map(dollar_into_rupee)#same as pandas .apply functionality"
   ]
  },
  {
   "cell_type": "code",
   "execution_count": 11,
   "id": "de322adb",
   "metadata": {},
   "outputs": [
    {
     "name": "stdout",
     "output_type": "stream",
     "text": [
      "2656\n",
      "3735\n",
      "996\n",
      "2822\n",
      "6474\n",
      "5395\n",
      "6308\n",
      "7387\n",
      "830\n"
     ]
    }
   ],
   "source": [
    "for i in tf_dataset.as_numpy_iterator():\n",
    "    print(i)"
   ]
  },
  {
   "cell_type": "code",
   "execution_count": 12,
   "id": "c9792149",
   "metadata": {},
   "outputs": [
    {
     "name": "stdout",
     "output_type": "stream",
     "text": [
      "tf.Tensor(2656, shape=(), dtype=int32)\n",
      "tf.Tensor(3735, shape=(), dtype=int32)\n",
      "tf.Tensor(996, shape=(), dtype=int32)\n",
      "tf.Tensor(2822, shape=(), dtype=int32)\n"
     ]
    }
   ],
   "source": [
    "for i in tf_dataset.take(4):#this will take only 4 values from beginning\n",
    "    print(i)"
   ]
  },
  {
   "cell_type": "markdown",
   "id": "098269f4",
   "metadata": {},
   "source": [
    "# Shuffle in tf.data.Dataset"
   ]
  },
  {
   "cell_type": "code",
   "execution_count": 13,
   "id": "7c733bb9",
   "metadata": {},
   "outputs": [
    {
     "name": "stdout",
     "output_type": "stream",
     "text": [
      "2656\n",
      "2822\n",
      "3735\n",
      "6474\n",
      "6308\n",
      "996\n",
      "7387\n",
      "830\n",
      "5395\n"
     ]
    }
   ],
   "source": [
    "for i in tf_dataset.shuffle(3).as_numpy_iterator():\n",
    "    print(i)"
   ]
  },
  {
   "cell_type": "markdown",
   "id": "1e5b5e45",
   "metadata": {},
   "source": [
    "# Batch"
   ]
  },
  {
   "cell_type": "code",
   "execution_count": 15,
   "id": "791153eb",
   "metadata": {},
   "outputs": [
    {
     "name": "stdout",
     "output_type": "stream",
     "text": [
      "[2656 3735  996] <class 'numpy.ndarray'>\n",
      "[2822 6474 5395] <class 'numpy.ndarray'>\n",
      "[6308 7387  830] <class 'numpy.ndarray'>\n"
     ]
    }
   ],
   "source": [
    "for i in tf_dataset.batch(3).as_numpy_iterator():\n",
    "    print(i,type(i))"
   ]
  },
  {
   "cell_type": "markdown",
   "id": "b2a97612",
   "metadata": {},
   "source": [
    "# Files - .list_files()"
   ]
  },
  {
   "cell_type": "code",
   "execution_count": 60,
   "id": "a20bb7d8",
   "metadata": {},
   "outputs": [],
   "source": [
    "image_ds = tf.data.Dataset.list_files(\"data/PlantVillage/*/*\",shuffle=True)# * is a placeholder for dynamic path elements"
   ]
  },
  {
   "cell_type": "code",
   "execution_count": 61,
   "id": "bebc1485",
   "metadata": {},
   "outputs": [
    {
     "name": "stdout",
     "output_type": "stream",
     "text": [
      "b'data/PlantVillage/Potato___Late_blight/0d8346e1-4624-4979-84e6-1353ca59007a___RS_LB 4079.JPG'\n",
      "b'data/PlantVillage/Potato___Early_blight/46dc77f0-be88-4887-b1f7-82adff9aaa39___RS_Early.B 7750.JPG'\n",
      "b'data/PlantVillage/Potato___Late_blight/33b849d5-ec92-4acb-88e6-530accf22734___RS_LB 4994.JPG'\n",
      "b'data/PlantVillage/Potato___Late_blight/80bdc2a3-66b8-4d95-abe7-65c7806f7cbf___RS_LB 3073.JPG'\n",
      "b'data/PlantVillage/Potato___healthy/9a6eb7c4-6b43-477a-89e0-69f62ef67991___RS_HL 1846.JPG'\n"
     ]
    }
   ],
   "source": [
    "for i in image_ds.take(5):\n",
    "    print(i.numpy())"
   ]
  },
  {
   "cell_type": "code",
   "execution_count": 62,
   "id": "eb2d5d86",
   "metadata": {},
   "outputs": [],
   "source": [
    "# beacuse s will be a Tensor and not a python string, We will have to use tf.strings.split(Tensor,delimiter)\n",
    "def get_label(filepath):\n",
    "    return tf.strings.split(tf.strings.split(filepath,\"/\")[-2],\"___\")[-1]"
   ]
  },
  {
   "cell_type": "code",
   "execution_count": 63,
   "id": "d1617b32",
   "metadata": {},
   "outputs": [],
   "source": [
    "def process_img(filepath):\n",
    "    label = get_label(filepath)\n",
    "    img = tf.io.read_file(filepath)\n",
    "    img = tf.image.decode_jpeg(img)\n",
    "    img = tf.image.resize(img,[128,128])\n",
    "    \n",
    "    return img,label"
   ]
  },
  {
   "cell_type": "code",
   "execution_count": 67,
   "id": "dd897ee5",
   "metadata": {},
   "outputs": [
    {
     "data": {
      "text/plain": [
       "1721"
      ]
     },
     "execution_count": 67,
     "metadata": {},
     "output_type": "execute_result"
    }
   ],
   "source": [
    "int(len(image_ds)*0.8)"
   ]
  },
  {
   "cell_type": "code",
   "execution_count": 68,
   "id": "06a8ca3e",
   "metadata": {},
   "outputs": [],
   "source": [
    "train_size = int(len(image_ds)*0.8)\n",
    "train_ds = image_ds.take(train_size)\n",
    "test_ds = image_ds.skip(train_size)"
   ]
  },
  {
   "cell_type": "code",
   "execution_count": 71,
   "id": "b819f4d2",
   "metadata": {},
   "outputs": [],
   "source": [
    "train_ds = train_ds.map(process_img)"
   ]
  },
  {
   "cell_type": "code",
   "execution_count": 73,
   "id": "78e7ede4",
   "metadata": {},
   "outputs": [],
   "source": [
    "test_ds = test_ds.map(process_img)"
   ]
  },
  {
   "cell_type": "code",
   "execution_count": 74,
   "id": "79cbb259",
   "metadata": {},
   "outputs": [
    {
     "name": "stdout",
     "output_type": "stream",
     "text": [
      "***Image tf.Tensor([194.25 189.25 195.25], shape=(3,), dtype=float32)\n",
      "***label tf.Tensor(b'Early_blight', shape=(), dtype=string)\n",
      "***Image tf.Tensor([172.5  165.75 172.  ], shape=(3,), dtype=float32)\n",
      "***label tf.Tensor(b'Early_blight', shape=(), dtype=string)\n",
      "***Image tf.Tensor([128.75 117.75 125.75], shape=(3,), dtype=float32)\n",
      "***label tf.Tensor(b'Late_blight', shape=(), dtype=string)\n"
     ]
    }
   ],
   "source": [
    "for img,label in test_ds.take(3):\n",
    "    print(\"***Image\",img[0][0])\n",
    "    print(\"***label\",label)"
   ]
  },
  {
   "cell_type": "code",
   "execution_count": 75,
   "id": "f07801dd",
   "metadata": {},
   "outputs": [],
   "source": [
    "def scale(img,label):\n",
    "    return img/255,label"
   ]
  },
  {
   "cell_type": "code",
   "execution_count": 78,
   "id": "dba76294",
   "metadata": {},
   "outputs": [],
   "source": [
    "train_ds = train_ds.map(scale)\n",
    "test_ds = test_ds.map(scale)"
   ]
  },
  {
   "cell_type": "code",
   "execution_count": 79,
   "id": "3171d5e9",
   "metadata": {},
   "outputs": [
    {
     "name": "stdout",
     "output_type": "stream",
     "text": [
      "***Image tf.Tensor([0.6735294 0.6460784 0.6735294], shape=(3,), dtype=float32)\n",
      "***label tf.Tensor(b'Late_blight', shape=(), dtype=string)\n",
      "***Image tf.Tensor([0.46764705 0.45196077 0.45588234], shape=(3,), dtype=float32)\n",
      "***label tf.Tensor(b'Early_blight', shape=(), dtype=string)\n",
      "***Image tf.Tensor([0.57058823 0.5470588  0.55490196], shape=(3,), dtype=float32)\n",
      "***label tf.Tensor(b'Late_blight', shape=(), dtype=string)\n"
     ]
    }
   ],
   "source": [
    "for img,label in test_ds.take(3):\n",
    "    print(\"***Image\",img[0][0])\n",
    "    print(\"***label\",label)"
   ]
  },
  {
   "cell_type": "code",
   "execution_count": null,
   "id": "01ba3f93",
   "metadata": {},
   "outputs": [],
   "source": []
  }
 ],
 "metadata": {
  "kernelspec": {
   "display_name": "Python 3 (ipykernel)",
   "language": "python",
   "name": "python3"
  },
  "language_info": {
   "codemirror_mode": {
    "name": "ipython",
    "version": 3
   },
   "file_extension": ".py",
   "mimetype": "text/x-python",
   "name": "python",
   "nbconvert_exporter": "python",
   "pygments_lexer": "ipython3",
   "version": "3.9.13"
  }
 },
 "nbformat": 4,
 "nbformat_minor": 5
}
